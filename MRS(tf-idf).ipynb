{
 "cells": [
  {
   "cell_type": "code",
   "execution_count": 11,
   "id": "75e0d6bf",
   "metadata": {},
   "outputs": [],
   "source": [
    "import pandas as pd\n",
    "import numpy as np"
   ]
  },
  {
   "cell_type": "code",
   "execution_count": 12,
   "id": "2c370e36",
   "metadata": {},
   "outputs": [],
   "source": [
    "data=pd.read_csv('wiki_movie_plots_deduped.csv')"
   ]
  },
  {
   "cell_type": "code",
   "execution_count": 13,
   "id": "1673071d",
   "metadata": {},
   "outputs": [
    {
     "data": {
      "text/html": [
       "<div>\n",
       "<style scoped>\n",
       "    .dataframe tbody tr th:only-of-type {\n",
       "        vertical-align: middle;\n",
       "    }\n",
       "\n",
       "    .dataframe tbody tr th {\n",
       "        vertical-align: top;\n",
       "    }\n",
       "\n",
       "    .dataframe thead th {\n",
       "        text-align: right;\n",
       "    }\n",
       "</style>\n",
       "<table border=\"1\" class=\"dataframe\">\n",
       "  <thead>\n",
       "    <tr style=\"text-align: right;\">\n",
       "      <th></th>\n",
       "      <th>Release Year</th>\n",
       "      <th>Title</th>\n",
       "      <th>Origin/Ethnicity</th>\n",
       "      <th>Director</th>\n",
       "      <th>Cast</th>\n",
       "      <th>Genre</th>\n",
       "      <th>Wiki Page</th>\n",
       "      <th>Plot</th>\n",
       "    </tr>\n",
       "  </thead>\n",
       "  <tbody>\n",
       "    <tr>\n",
       "      <th>0</th>\n",
       "      <td>1901</td>\n",
       "      <td>Kansas Saloon Smashers</td>\n",
       "      <td>American</td>\n",
       "      <td>Unknown</td>\n",
       "      <td>NaN</td>\n",
       "      <td>unknown</td>\n",
       "      <td>https://en.wikipedia.org/wiki/Kansas_Saloon_Sm...</td>\n",
       "      <td>A bartender is working at a saloon, serving dr...</td>\n",
       "    </tr>\n",
       "    <tr>\n",
       "      <th>1</th>\n",
       "      <td>1901</td>\n",
       "      <td>Love by the Light of the Moon</td>\n",
       "      <td>American</td>\n",
       "      <td>Unknown</td>\n",
       "      <td>NaN</td>\n",
       "      <td>unknown</td>\n",
       "      <td>https://en.wikipedia.org/wiki/Love_by_the_Ligh...</td>\n",
       "      <td>The moon, painted with a smiling face hangs ov...</td>\n",
       "    </tr>\n",
       "    <tr>\n",
       "      <th>2</th>\n",
       "      <td>1901</td>\n",
       "      <td>The Martyred Presidents</td>\n",
       "      <td>American</td>\n",
       "      <td>Unknown</td>\n",
       "      <td>NaN</td>\n",
       "      <td>unknown</td>\n",
       "      <td>https://en.wikipedia.org/wiki/The_Martyred_Pre...</td>\n",
       "      <td>The film, just over a minute long, is composed...</td>\n",
       "    </tr>\n",
       "    <tr>\n",
       "      <th>3</th>\n",
       "      <td>1901</td>\n",
       "      <td>Terrible Teddy, the Grizzly King</td>\n",
       "      <td>American</td>\n",
       "      <td>Unknown</td>\n",
       "      <td>NaN</td>\n",
       "      <td>unknown</td>\n",
       "      <td>https://en.wikipedia.org/wiki/Terrible_Teddy,_...</td>\n",
       "      <td>Lasting just 61 seconds and consisting of two ...</td>\n",
       "    </tr>\n",
       "    <tr>\n",
       "      <th>4</th>\n",
       "      <td>1902</td>\n",
       "      <td>Jack and the Beanstalk</td>\n",
       "      <td>American</td>\n",
       "      <td>George S. Fleming, Edwin S. Porter</td>\n",
       "      <td>NaN</td>\n",
       "      <td>unknown</td>\n",
       "      <td>https://en.wikipedia.org/wiki/Jack_and_the_Bea...</td>\n",
       "      <td>The earliest known adaptation of the classic f...</td>\n",
       "    </tr>\n",
       "  </tbody>\n",
       "</table>\n",
       "</div>"
      ],
      "text/plain": [
       "   Release Year                             Title Origin/Ethnicity  \\\n",
       "0          1901            Kansas Saloon Smashers         American   \n",
       "1          1901     Love by the Light of the Moon         American   \n",
       "2          1901           The Martyred Presidents         American   \n",
       "3          1901  Terrible Teddy, the Grizzly King         American   \n",
       "4          1902            Jack and the Beanstalk         American   \n",
       "\n",
       "                             Director Cast    Genre  \\\n",
       "0                             Unknown  NaN  unknown   \n",
       "1                             Unknown  NaN  unknown   \n",
       "2                             Unknown  NaN  unknown   \n",
       "3                             Unknown  NaN  unknown   \n",
       "4  George S. Fleming, Edwin S. Porter  NaN  unknown   \n",
       "\n",
       "                                           Wiki Page  \\\n",
       "0  https://en.wikipedia.org/wiki/Kansas_Saloon_Sm...   \n",
       "1  https://en.wikipedia.org/wiki/Love_by_the_Ligh...   \n",
       "2  https://en.wikipedia.org/wiki/The_Martyred_Pre...   \n",
       "3  https://en.wikipedia.org/wiki/Terrible_Teddy,_...   \n",
       "4  https://en.wikipedia.org/wiki/Jack_and_the_Bea...   \n",
       "\n",
       "                                                Plot  \n",
       "0  A bartender is working at a saloon, serving dr...  \n",
       "1  The moon, painted with a smiling face hangs ov...  \n",
       "2  The film, just over a minute long, is composed...  \n",
       "3  Lasting just 61 seconds and consisting of two ...  \n",
       "4  The earliest known adaptation of the classic f...  "
      ]
     },
     "execution_count": 13,
     "metadata": {},
     "output_type": "execute_result"
    }
   ],
   "source": [
    "data.head()"
   ]
  },
  {
   "cell_type": "code",
   "execution_count": 14,
   "id": "7de1d7a7",
   "metadata": {},
   "outputs": [
    {
     "data": {
      "text/plain": [
       "(34886, 8)"
      ]
     },
     "execution_count": 14,
     "metadata": {},
     "output_type": "execute_result"
    }
   ],
   "source": [
    "data.shape\n"
   ]
  },
  {
   "cell_type": "markdown",
   "id": "5a290732",
   "metadata": {},
   "source": [
    "List of available movies of different orign"
   ]
  },
  {
   "cell_type": "code",
   "execution_count": 15,
   "id": "91dd9e53",
   "metadata": {},
   "outputs": [
    {
     "data": {
      "text/plain": [
       "array(['American', 'Assamese', 'Australian', 'Bangladeshi', 'Bengali',\n",
       "       'Bollywood', 'British', 'Canadian', 'Chinese', 'Egyptian',\n",
       "       'Filipino', 'Hong Kong', 'Japanese', 'Kannada', 'Malayalam',\n",
       "       'Malaysian', 'Maldivian', 'Marathi', 'Punjabi', 'Russian',\n",
       "       'South_Korean', 'Tamil', 'Telugu', 'Turkish'], dtype=object)"
      ]
     },
     "execution_count": 15,
     "metadata": {},
     "output_type": "execute_result"
    }
   ],
   "source": [
    "np.unique(data['Origin/Ethnicity'])"
   ]
  },
  {
   "cell_type": "markdown",
   "id": "d7192e01",
   "metadata": {},
   "source": [
    "Selecting the movies origin and release date "
   ]
  },
  {
   "cell_type": "code",
   "execution_count": 16,
   "id": "095a3df3",
   "metadata": {},
   "outputs": [],
   "source": [
    "data2=data.loc[(data['Origin/Ethnicity']=='American')|( data['Origin/Ethnicity']== 'Australian')|( data['Origin/Ethnicity']=='Bollywood')|(data['Origin/Ethnicity']=='British')|(data['Origin/Ethnicity']== 'Canadian') & (data['Release Year']>2000)]"
   ]
  },
  {
   "cell_type": "code",
   "execution_count": 17,
   "id": "e03ed052",
   "metadata": {},
   "outputs": [],
   "source": [
    "my_data=pd.DataFrame(data2)"
   ]
  },
  {
   "cell_type": "code",
   "execution_count": 18,
   "id": "d4890c18",
   "metadata": {},
   "outputs": [
    {
     "data": {
      "text/html": [
       "<div>\n",
       "<style scoped>\n",
       "    .dataframe tbody tr th:only-of-type {\n",
       "        vertical-align: middle;\n",
       "    }\n",
       "\n",
       "    .dataframe tbody tr th {\n",
       "        vertical-align: top;\n",
       "    }\n",
       "\n",
       "    .dataframe thead th {\n",
       "        text-align: right;\n",
       "    }\n",
       "</style>\n",
       "<table border=\"1\" class=\"dataframe\">\n",
       "  <thead>\n",
       "    <tr style=\"text-align: right;\">\n",
       "      <th></th>\n",
       "      <th>Release Year</th>\n",
       "      <th>Title</th>\n",
       "      <th>Origin/Ethnicity</th>\n",
       "      <th>Director</th>\n",
       "      <th>Cast</th>\n",
       "      <th>Genre</th>\n",
       "      <th>Wiki Page</th>\n",
       "      <th>Plot</th>\n",
       "    </tr>\n",
       "  </thead>\n",
       "  <tbody>\n",
       "    <tr>\n",
       "      <th>0</th>\n",
       "      <td>1901</td>\n",
       "      <td>Kansas Saloon Smashers</td>\n",
       "      <td>American</td>\n",
       "      <td>Unknown</td>\n",
       "      <td>NaN</td>\n",
       "      <td>unknown</td>\n",
       "      <td>https://en.wikipedia.org/wiki/Kansas_Saloon_Sm...</td>\n",
       "      <td>A bartender is working at a saloon, serving dr...</td>\n",
       "    </tr>\n",
       "    <tr>\n",
       "      <th>1</th>\n",
       "      <td>1901</td>\n",
       "      <td>Love by the Light of the Moon</td>\n",
       "      <td>American</td>\n",
       "      <td>Unknown</td>\n",
       "      <td>NaN</td>\n",
       "      <td>unknown</td>\n",
       "      <td>https://en.wikipedia.org/wiki/Love_by_the_Ligh...</td>\n",
       "      <td>The moon, painted with a smiling face hangs ov...</td>\n",
       "    </tr>\n",
       "    <tr>\n",
       "      <th>2</th>\n",
       "      <td>1901</td>\n",
       "      <td>The Martyred Presidents</td>\n",
       "      <td>American</td>\n",
       "      <td>Unknown</td>\n",
       "      <td>NaN</td>\n",
       "      <td>unknown</td>\n",
       "      <td>https://en.wikipedia.org/wiki/The_Martyred_Pre...</td>\n",
       "      <td>The film, just over a minute long, is composed...</td>\n",
       "    </tr>\n",
       "    <tr>\n",
       "      <th>3</th>\n",
       "      <td>1901</td>\n",
       "      <td>Terrible Teddy, the Grizzly King</td>\n",
       "      <td>American</td>\n",
       "      <td>Unknown</td>\n",
       "      <td>NaN</td>\n",
       "      <td>unknown</td>\n",
       "      <td>https://en.wikipedia.org/wiki/Terrible_Teddy,_...</td>\n",
       "      <td>Lasting just 61 seconds and consisting of two ...</td>\n",
       "    </tr>\n",
       "    <tr>\n",
       "      <th>4</th>\n",
       "      <td>1902</td>\n",
       "      <td>Jack and the Beanstalk</td>\n",
       "      <td>American</td>\n",
       "      <td>George S. Fleming, Edwin S. Porter</td>\n",
       "      <td>NaN</td>\n",
       "      <td>unknown</td>\n",
       "      <td>https://en.wikipedia.org/wiki/Jack_and_the_Bea...</td>\n",
       "      <td>The earliest known adaptation of the classic f...</td>\n",
       "    </tr>\n",
       "    <tr>\n",
       "      <th>...</th>\n",
       "      <td>...</td>\n",
       "      <td>...</td>\n",
       "      <td>...</td>\n",
       "      <td>...</td>\n",
       "      <td>...</td>\n",
       "      <td>...</td>\n",
       "      <td>...</td>\n",
       "      <td>...</td>\n",
       "    </tr>\n",
       "    <tr>\n",
       "      <th>27123</th>\n",
       "      <td>2017</td>\n",
       "      <td>Kadvi Hawa</td>\n",
       "      <td>Bollywood</td>\n",
       "      <td>Nila Madhab Panda</td>\n",
       "      <td>Sanjay Mishra, Ranvir Shorey, Tillotama Shome,...</td>\n",
       "      <td>drama/disaster</td>\n",
       "      <td>https://en.wikipedia.org/wiki/Kadvi_Hawa</td>\n",
       "      <td>The film is based on true stories from drought...</td>\n",
       "    </tr>\n",
       "    <tr>\n",
       "      <th>27124</th>\n",
       "      <td>2017</td>\n",
       "      <td>Rajiv Dhingra</td>\n",
       "      <td>Bollywood</td>\n",
       "      <td>Kapil Sharma, Varun Badola &amp; Edward Sonnenblick</td>\n",
       "      <td>Comedy</td>\n",
       "      <td>k9 films</td>\n",
       "      <td>https://en.wikipedia.org/wiki/Firangi</td>\n",
       "      <td>In the 1920s, Manga (Kapil Sharma) is an unedu...</td>\n",
       "    </tr>\n",
       "    <tr>\n",
       "      <th>27125</th>\n",
       "      <td>2017</td>\n",
       "      <td>Fukrey Returns</td>\n",
       "      <td>Bollywood</td>\n",
       "      <td>Mrighdeep Singh Lamba</td>\n",
       "      <td>Pulkit Samrat, Priya Anand &amp; Varun Sharma</td>\n",
       "      <td>comedy</td>\n",
       "      <td>https://en.wikipedia.org/wiki/Fukrey_Returns</td>\n",
       "      <td>After their admission in college, Hunny, Chooc...</td>\n",
       "    </tr>\n",
       "    <tr>\n",
       "      <th>27126</th>\n",
       "      <td>2017</td>\n",
       "      <td>Monsoon Shootout</td>\n",
       "      <td>Bollywood</td>\n",
       "      <td>Amit Kumar</td>\n",
       "      <td>Nawazuddin Siddiqui, Vijay Varma &amp; Tannishtha ...</td>\n",
       "      <td>crime/thriller</td>\n",
       "      <td>https://en.wikipedia.org/wiki/Monsoon_Shootout</td>\n",
       "      <td>As the raging monsoon lashes Mumbai, the comme...</td>\n",
       "    </tr>\n",
       "    <tr>\n",
       "      <th>27127</th>\n",
       "      <td>2017</td>\n",
       "      <td>Tiger Zinda Hai</td>\n",
       "      <td>Bollywood</td>\n",
       "      <td>Ali Abbas Zafar</td>\n",
       "      <td>Salman Khan &amp; Katrina Kaif</td>\n",
       "      <td>action/drama</td>\n",
       "      <td>https://en.wikipedia.org/wiki/Tiger_Zinda_Hai</td>\n",
       "      <td>During a dark night in Iraq, an American journ...</td>\n",
       "    </tr>\n",
       "  </tbody>\n",
       "</table>\n",
       "<p>24976 rows × 8 columns</p>\n",
       "</div>"
      ],
      "text/plain": [
       "       Release Year                             Title Origin/Ethnicity  \\\n",
       "0              1901            Kansas Saloon Smashers         American   \n",
       "1              1901     Love by the Light of the Moon         American   \n",
       "2              1901           The Martyred Presidents         American   \n",
       "3              1901  Terrible Teddy, the Grizzly King         American   \n",
       "4              1902            Jack and the Beanstalk         American   \n",
       "...             ...                               ...              ...   \n",
       "27123          2017                        Kadvi Hawa        Bollywood   \n",
       "27124          2017                     Rajiv Dhingra        Bollywood   \n",
       "27125          2017                    Fukrey Returns        Bollywood   \n",
       "27126          2017                  Monsoon Shootout        Bollywood   \n",
       "27127          2017                   Tiger Zinda Hai        Bollywood   \n",
       "\n",
       "                                              Director  \\\n",
       "0                                              Unknown   \n",
       "1                                              Unknown   \n",
       "2                                              Unknown   \n",
       "3                                              Unknown   \n",
       "4                   George S. Fleming, Edwin S. Porter   \n",
       "...                                                ...   \n",
       "27123                                Nila Madhab Panda   \n",
       "27124  Kapil Sharma, Varun Badola & Edward Sonnenblick   \n",
       "27125                            Mrighdeep Singh Lamba   \n",
       "27126                                       Amit Kumar   \n",
       "27127                                  Ali Abbas Zafar   \n",
       "\n",
       "                                                    Cast           Genre  \\\n",
       "0                                                    NaN         unknown   \n",
       "1                                                    NaN         unknown   \n",
       "2                                                    NaN         unknown   \n",
       "3                                                    NaN         unknown   \n",
       "4                                                    NaN         unknown   \n",
       "...                                                  ...             ...   \n",
       "27123  Sanjay Mishra, Ranvir Shorey, Tillotama Shome,...  drama/disaster   \n",
       "27124                                             Comedy        k9 films   \n",
       "27125          Pulkit Samrat, Priya Anand & Varun Sharma          comedy   \n",
       "27126  Nawazuddin Siddiqui, Vijay Varma & Tannishtha ...  crime/thriller   \n",
       "27127                         Salman Khan & Katrina Kaif    action/drama   \n",
       "\n",
       "                                               Wiki Page  \\\n",
       "0      https://en.wikipedia.org/wiki/Kansas_Saloon_Sm...   \n",
       "1      https://en.wikipedia.org/wiki/Love_by_the_Ligh...   \n",
       "2      https://en.wikipedia.org/wiki/The_Martyred_Pre...   \n",
       "3      https://en.wikipedia.org/wiki/Terrible_Teddy,_...   \n",
       "4      https://en.wikipedia.org/wiki/Jack_and_the_Bea...   \n",
       "...                                                  ...   \n",
       "27123           https://en.wikipedia.org/wiki/Kadvi_Hawa   \n",
       "27124              https://en.wikipedia.org/wiki/Firangi   \n",
       "27125       https://en.wikipedia.org/wiki/Fukrey_Returns   \n",
       "27126     https://en.wikipedia.org/wiki/Monsoon_Shootout   \n",
       "27127      https://en.wikipedia.org/wiki/Tiger_Zinda_Hai   \n",
       "\n",
       "                                                    Plot  \n",
       "0      A bartender is working at a saloon, serving dr...  \n",
       "1      The moon, painted with a smiling face hangs ov...  \n",
       "2      The film, just over a minute long, is composed...  \n",
       "3      Lasting just 61 seconds and consisting of two ...  \n",
       "4      The earliest known adaptation of the classic f...  \n",
       "...                                                  ...  \n",
       "27123  The film is based on true stories from drought...  \n",
       "27124  In the 1920s, Manga (Kapil Sharma) is an unedu...  \n",
       "27125  After their admission in college, Hunny, Chooc...  \n",
       "27126  As the raging monsoon lashes Mumbai, the comme...  \n",
       "27127  During a dark night in Iraq, an American journ...  \n",
       "\n",
       "[24976 rows x 8 columns]"
      ]
     },
     "execution_count": 18,
     "metadata": {},
     "output_type": "execute_result"
    }
   ],
   "source": [
    "my_data"
   ]
  },
  {
   "cell_type": "markdown",
   "id": "eb66aee7",
   "metadata": {},
   "source": [
    "Eliminating all unnecessary columns and only keeping Title and Plot of the movie"
   ]
  },
  {
   "cell_type": "code",
   "execution_count": 19,
   "id": "34058923",
   "metadata": {},
   "outputs": [
    {
     "data": {
      "text/html": [
       "<div>\n",
       "<style scoped>\n",
       "    .dataframe tbody tr th:only-of-type {\n",
       "        vertical-align: middle;\n",
       "    }\n",
       "\n",
       "    .dataframe tbody tr th {\n",
       "        vertical-align: top;\n",
       "    }\n",
       "\n",
       "    .dataframe thead th {\n",
       "        text-align: right;\n",
       "    }\n",
       "</style>\n",
       "<table border=\"1\" class=\"dataframe\">\n",
       "  <thead>\n",
       "    <tr style=\"text-align: right;\">\n",
       "      <th></th>\n",
       "      <th>Plot</th>\n",
       "    </tr>\n",
       "    <tr>\n",
       "      <th>Title</th>\n",
       "      <th></th>\n",
       "    </tr>\n",
       "  </thead>\n",
       "  <tbody>\n",
       "    <tr>\n",
       "      <th>Kansas Saloon Smashers</th>\n",
       "      <td>A bartender is working at a saloon, serving dr...</td>\n",
       "    </tr>\n",
       "    <tr>\n",
       "      <th>Love by the Light of the Moon</th>\n",
       "      <td>The moon, painted with a smiling face hangs ov...</td>\n",
       "    </tr>\n",
       "    <tr>\n",
       "      <th>The Martyred Presidents</th>\n",
       "      <td>The film, just over a minute long, is composed...</td>\n",
       "    </tr>\n",
       "    <tr>\n",
       "      <th>Terrible Teddy, the Grizzly King</th>\n",
       "      <td>Lasting just 61 seconds and consisting of two ...</td>\n",
       "    </tr>\n",
       "    <tr>\n",
       "      <th>Jack and the Beanstalk</th>\n",
       "      <td>The earliest known adaptation of the classic f...</td>\n",
       "    </tr>\n",
       "    <tr>\n",
       "      <th>Alice in Wonderland</th>\n",
       "      <td>Alice follows a large white rabbit down a \"Rab...</td>\n",
       "    </tr>\n",
       "    <tr>\n",
       "      <th>The Great Train Robbery</th>\n",
       "      <td>The film opens with two bandits breaking into ...</td>\n",
       "    </tr>\n",
       "    <tr>\n",
       "      <th>The Suburbanite</th>\n",
       "      <td>The film is about a family who move to the sub...</td>\n",
       "    </tr>\n",
       "    <tr>\n",
       "      <th>The Little Train Robbery</th>\n",
       "      <td>The opening scene shows the interior of the ro...</td>\n",
       "    </tr>\n",
       "    <tr>\n",
       "      <th>The Night Before Christmas</th>\n",
       "      <td>Scenes are introduced using lines of the poem....</td>\n",
       "    </tr>\n",
       "    <tr>\n",
       "      <th>Dream of a Rarebit Fiend</th>\n",
       "      <td>The Rarebit Fiend gorges on Welsh rarebit at a...</td>\n",
       "    </tr>\n",
       "    <tr>\n",
       "      <th>From Leadville to Aspen: A Hold-Up in the Rockies</th>\n",
       "      <td>The film features a train traveling through th...</td>\n",
       "    </tr>\n",
       "    <tr>\n",
       "      <th>Kathleen Mavourneen</th>\n",
       "      <td>Irish villager Kathleen is a tenant of Captain...</td>\n",
       "    </tr>\n",
       "    <tr>\n",
       "      <th>Daniel Boone</th>\n",
       "      <td>Boone's daughter befriends an Indian maiden as...</td>\n",
       "    </tr>\n",
       "    <tr>\n",
       "      <th>How Brown Saw the Baseball Game</th>\n",
       "      <td>Before heading out to a baseball game at a nea...</td>\n",
       "    </tr>\n",
       "    <tr>\n",
       "      <th>Laughing Gas</th>\n",
       "      <td>The plot is that of a black woman going to the...</td>\n",
       "    </tr>\n",
       "    <tr>\n",
       "      <th>The Adventures of Dollie</th>\n",
       "      <td>On a beautiful summer day a father and mother ...</td>\n",
       "    </tr>\n",
       "    <tr>\n",
       "      <th>The Black Viper</th>\n",
       "      <td>A thug accosts a girl as she leaves her workpl...</td>\n",
       "    </tr>\n",
       "    <tr>\n",
       "      <th>A Calamitous Elopement</th>\n",
       "      <td>A young couple decides to elope after being ca...</td>\n",
       "    </tr>\n",
       "    <tr>\n",
       "      <th>The Call of the Wild</th>\n",
       "      <td>A white girl (Florence Lawrence) rejects a pro...</td>\n",
       "    </tr>\n",
       "    <tr>\n",
       "      <th>A Christmas Carol</th>\n",
       "      <td>No prints of the first American film adaptatio...</td>\n",
       "    </tr>\n",
       "    <tr>\n",
       "      <th>The Fight for Freedom</th>\n",
       "      <td>The film opens in a town on the Mexican border...</td>\n",
       "    </tr>\n",
       "    <tr>\n",
       "      <th>At the Altar</th>\n",
       "      <td>A rejected admirer sets up a trap to kill his ...</td>\n",
       "    </tr>\n",
       "    <tr>\n",
       "      <th>A Drunkard's Reformation</th>\n",
       "      <td>John Wharton, the husband of a true and trusti...</td>\n",
       "    </tr>\n",
       "    <tr>\n",
       "      <th>The Golden Louis</th>\n",
       "      <td>An old woman sends a girl begging in the stree...</td>\n",
       "    </tr>\n",
       "    <tr>\n",
       "      <th>The Lure of the Gown</th>\n",
       "      <td>The story as told by Moving Picture World read...</td>\n",
       "    </tr>\n",
       "    <tr>\n",
       "      <th>An Arcadian Maid</th>\n",
       "      <td>Mary Pickford plays Priscilla an unemployed ma...</td>\n",
       "    </tr>\n",
       "    <tr>\n",
       "      <th>A Christmas Carol</th>\n",
       "      <td>The day before Christmas, Ebenezer Scrooge ref...</td>\n",
       "    </tr>\n",
       "    <tr>\n",
       "      <th>Frankenstein</th>\n",
       "      <td>Described as \"a liberal adaptation of Mrs. She...</td>\n",
       "    </tr>\n",
       "    <tr>\n",
       "      <th>Hemlock Hoax, the Detective</th>\n",
       "      <td>Hemlock Hoax is a detective who has little res...</td>\n",
       "    </tr>\n",
       "    <tr>\n",
       "      <th>The House with Closed Shutters</th>\n",
       "      <td>During the American Civil War a young soldier ...</td>\n",
       "    </tr>\n",
       "    <tr>\n",
       "      <th>A Lad from Old Ireland</th>\n",
       "      <td>An Irish boy (Olcott) emigrates to America to ...</td>\n",
       "    </tr>\n",
       "    <tr>\n",
       "      <th>Pocahontas</th>\n",
       "      <td>Though the film is presumed lost, a synopsis s...</td>\n",
       "    </tr>\n",
       "    <tr>\n",
       "      <th>Ramona</th>\n",
       "      <td>Ramona chronicles the romance between Ramona (...</td>\n",
       "    </tr>\n",
       "    <tr>\n",
       "      <th>What the Daisy Said</th>\n",
       "      <td>The film opens upon two sisters (Martha, playe...</td>\n",
       "    </tr>\n",
       "    <tr>\n",
       "      <th>The Wonderful Wizard of Oz</th>\n",
       "      <td>In Kansas, Dorothy and Imogene the cow are cha...</td>\n",
       "    </tr>\n",
       "    <tr>\n",
       "      <th>Baseball and Bloomers</th>\n",
       "      <td>Though the film is presumed lost, a synopsis s...</td>\n",
       "    </tr>\n",
       "    <tr>\n",
       "      <th>The Black Arrow: A Tale of the Two Roses</th>\n",
       "      <td>The novel is set in the reign of \"old King Hen...</td>\n",
       "    </tr>\n",
       "    <tr>\n",
       "      <th>Brown of Harvard</th>\n",
       "      <td>The story deals with Tom Brown's efforts to sa...</td>\n",
       "    </tr>\n",
       "    <tr>\n",
       "      <th>For Her Sake</th>\n",
       "      <td>The film is a period drama taking place right ...</td>\n",
       "    </tr>\n",
       "    <tr>\n",
       "      <th>David Copperfield</th>\n",
       "      <td>\"David Copperfield consists of three reels and...</td>\n",
       "    </tr>\n",
       "    <tr>\n",
       "      <th>The Pasha's Daughter</th>\n",
       "      <td>The film begins with Jack Sparks, a young Amer...</td>\n",
       "    </tr>\n",
       "    <tr>\n",
       "      <th>Sweet Memories</th>\n",
       "      <td>Polly Biblett (Mary Pickford), a young lady, t...</td>\n",
       "    </tr>\n",
       "    <tr>\n",
       "      <th>The Deserter</th>\n",
       "      <td>The story concerns a soldier who deserts his r...</td>\n",
       "    </tr>\n",
       "    <tr>\n",
       "      <th>Dr. Jekyll and Mr. Hyde</th>\n",
       "      <td>White-haired Dr. Jekyll has secretly locked hi...</td>\n",
       "    </tr>\n",
       "    <tr>\n",
       "      <th>The Land Beyond the Sunset</th>\n",
       "      <td>Joe is an impoverished New York newsboy who li...</td>\n",
       "    </tr>\n",
       "    <tr>\n",
       "      <th>The Musketeers of Pig Alley</th>\n",
       "      <td>The film is about a poor married couple living...</td>\n",
       "    </tr>\n",
       "    <tr>\n",
       "      <th>The New York Hat</th>\n",
       "      <td>Mollie Goodhue leads a cheerless, impoverished...</td>\n",
       "    </tr>\n",
       "    <tr>\n",
       "      <th>Petticoat Camp</th>\n",
       "      <td>Only lasting 15 minutes, it is a light-hearted...</td>\n",
       "    </tr>\n",
       "    <tr>\n",
       "      <th>Put Yourself in His Place</th>\n",
       "      <td>The story is of an English manufacturing town ...</td>\n",
       "    </tr>\n",
       "  </tbody>\n",
       "</table>\n",
       "</div>"
      ],
      "text/plain": [
       "                                                                                                Plot\n",
       "Title                                                                                               \n",
       "Kansas Saloon Smashers                             A bartender is working at a saloon, serving dr...\n",
       "Love by the Light of the Moon                      The moon, painted with a smiling face hangs ov...\n",
       "The Martyred Presidents                            The film, just over a minute long, is composed...\n",
       "Terrible Teddy, the Grizzly King                   Lasting just 61 seconds and consisting of two ...\n",
       "Jack and the Beanstalk                             The earliest known adaptation of the classic f...\n",
       "Alice in Wonderland                                Alice follows a large white rabbit down a \"Rab...\n",
       "The Great Train Robbery                            The film opens with two bandits breaking into ...\n",
       "The Suburbanite                                    The film is about a family who move to the sub...\n",
       "The Little Train Robbery                           The opening scene shows the interior of the ro...\n",
       "The Night Before Christmas                         Scenes are introduced using lines of the poem....\n",
       "Dream of a Rarebit Fiend                           The Rarebit Fiend gorges on Welsh rarebit at a...\n",
       "From Leadville to Aspen: A Hold-Up in the Rockies  The film features a train traveling through th...\n",
       "Kathleen Mavourneen                                Irish villager Kathleen is a tenant of Captain...\n",
       "Daniel Boone                                       Boone's daughter befriends an Indian maiden as...\n",
       "How Brown Saw the Baseball Game                    Before heading out to a baseball game at a nea...\n",
       "Laughing Gas                                       The plot is that of a black woman going to the...\n",
       "The Adventures of Dollie                           On a beautiful summer day a father and mother ...\n",
       "The Black Viper                                    A thug accosts a girl as she leaves her workpl...\n",
       "A Calamitous Elopement                             A young couple decides to elope after being ca...\n",
       "The Call of the Wild                               A white girl (Florence Lawrence) rejects a pro...\n",
       "A Christmas Carol                                  No prints of the first American film adaptatio...\n",
       "The Fight for Freedom                              The film opens in a town on the Mexican border...\n",
       "At the Altar                                       A rejected admirer sets up a trap to kill his ...\n",
       "A Drunkard's Reformation                           John Wharton, the husband of a true and trusti...\n",
       "The Golden Louis                                   An old woman sends a girl begging in the stree...\n",
       "The Lure of the Gown                               The story as told by Moving Picture World read...\n",
       "An Arcadian Maid                                   Mary Pickford plays Priscilla an unemployed ma...\n",
       "A Christmas Carol                                  The day before Christmas, Ebenezer Scrooge ref...\n",
       "Frankenstein                                       Described as \"a liberal adaptation of Mrs. She...\n",
       "Hemlock Hoax, the Detective                        Hemlock Hoax is a detective who has little res...\n",
       "The House with Closed Shutters                     During the American Civil War a young soldier ...\n",
       "A Lad from Old Ireland                             An Irish boy (Olcott) emigrates to America to ...\n",
       "Pocahontas                                         Though the film is presumed lost, a synopsis s...\n",
       "Ramona                                             Ramona chronicles the romance between Ramona (...\n",
       "What the Daisy Said                                The film opens upon two sisters (Martha, playe...\n",
       "The Wonderful Wizard of Oz                         In Kansas, Dorothy and Imogene the cow are cha...\n",
       "Baseball and Bloomers                              Though the film is presumed lost, a synopsis s...\n",
       "The Black Arrow: A Tale of the Two Roses           The novel is set in the reign of \"old King Hen...\n",
       "Brown of Harvard                                   The story deals with Tom Brown's efforts to sa...\n",
       "For Her Sake                                       The film is a period drama taking place right ...\n",
       "David Copperfield                                  \"David Copperfield consists of three reels and...\n",
       "The Pasha's Daughter                               The film begins with Jack Sparks, a young Amer...\n",
       "Sweet Memories                                     Polly Biblett (Mary Pickford), a young lady, t...\n",
       "The Deserter                                       The story concerns a soldier who deserts his r...\n",
       "Dr. Jekyll and Mr. Hyde                            White-haired Dr. Jekyll has secretly locked hi...\n",
       "The Land Beyond the Sunset                         Joe is an impoverished New York newsboy who li...\n",
       "The Musketeers of Pig Alley                        The film is about a poor married couple living...\n",
       "The New York Hat                                   Mollie Goodhue leads a cheerless, impoverished...\n",
       "Petticoat Camp                                     Only lasting 15 minutes, it is a light-hearted...\n",
       "Put Yourself in His Place                          The story is of an English manufacturing town ..."
      ]
     },
     "execution_count": 19,
     "metadata": {},
     "output_type": "execute_result"
    }
   ],
   "source": [
    "finaldata=my_data[['Title','Plot']]\n",
    "finaldata=finaldata.set_index('Title')\n",
    "finaldata.head(50)"
   ]
  },
  {
   "cell_type": "code",
   "execution_count": 20,
   "id": "38ba3fb7",
   "metadata": {},
   "outputs": [
    {
     "data": {
      "text/plain": [
       "'In 965 AD, Odin, king of Asgard, wages war against the Frost Giants of Jotunheim and their leader Laufey, to prevent them from conquering the nine realms, starting with Earth. The Asgardian warriors defeat the Frost Giants and seize the source of their power, the Casket of Ancient Winters.\\r\\nIn the present,[N 2] Odin\\'s son Thor prepares to ascend to the throne of Asgard, but is interrupted when Frost Giants attempt to retrieve the Casket. Against Odin\\'s order, Thor travels to Jotunheim to confront Laufey, accompanied by his brother Loki, childhood friend Sif and the Warriors Three: Volstagg, Fandral, and Hogun. A battle ensues until Odin intervenes to save the Asgardians, destroying the fragile truce between the two races. For Thor\\'s arrogance, Odin strips his son of his godly power and exiles him to Earth as a mortal, accompanied by his hammer Mjölnir, now protected by an enchantment that allows only the worthy to wield it.\\r\\nThor lands in New Mexico, where astrophysicist Dr. Jane Foster, her assistant Darcy Lewis, and mentor Dr. Erik Selvig find him. The local populace finds Mjolnir, which S.H.I.E.L.D. agent Phil Coulson soon commandeers before forcibly acquiring Foster\\'s data about the wormhole that delivered Thor to Earth. Thor, having discovered Mjolnir\\'s nearby location, seeks to retrieve it from the facility that S.H.I.E.L.D. has constructed, but he finds himself unable to lift it and is captured. With Selvig\\'s help, he is freed and resigns himself to exile on Earth as he develops a romance with Foster.\\r\\nLoki discovers that he is Laufey\\'s biological son, adopted by Odin after the war ended. A weary Odin falls into the deep \"Odinsleep\" to recover his strength. Loki seizes the throne in Odin\\'s stead and offers Laufey the chance to kill Odin and retrieve the Casket. Sif and the Warriors Three, unhappy with Loki\\'s rule, attempt to return Thor from exile, convincing Heimdall, gatekeeper of the Bifröst—the means of traveling between worlds—to allow them passage to Earth. Aware of their plan, Loki sends the Destroyer, a seemingly indestructible automaton, to pursue them and kill Thor. The warriors find Thor, but the Destroyer attacks and defeats them, prompting Thor to offer himself instead. Struck by the Destroyer and near death, Thor\\'s sacrifice proves him worthy to wield Mjölnir. The hammer returns to him, restoring his powers and enabling him to defeat the Destroyer. Kissing Foster goodbye and vowing to return, he and his fellow Asgardians leave to confront Loki.\\r\\nIn Asgard, Loki betrays and kills Laufey, revealing his true plan to use Laufey\\'s attempt on Odin\\'s life as an excuse to destroy Jotunheim with the Bifröst Bridge, thus proving himself worthy to his adoptive father. Thor arrives and fights Loki before destroying the Bifröst Bridge to stop Loki\\'s plan, stranding himself in Asgard. Odin awakens and prevents the brothers from falling into the abyss created in the wake of the bridge\\'s destruction, but Loki apparently commits suicide by allowing himself to fall when Odin rejects his pleas for approval. Thor makes amends with Odin, admitting he is not ready to be king; meanwhile, on Earth, Foster and her team search for a way to open a portal to Asgard.\\r\\nIn a post-credits scene, Selvig is taken to a S.H.I.E.L.D. facility, where Nick Fury opens a briefcase and asks him to study a mysterious cube-shaped object,[N 3] which Fury says may hold untold power. An invisible Loki prompts Selvig to agree, and he does.'"
      ]
     },
     "execution_count": 20,
     "metadata": {},
     "output_type": "execute_result"
    }
   ],
   "source": [
    "finaldata['Plot']['Thor']"
   ]
  },
  {
   "cell_type": "markdown",
   "id": "0f4243bb",
   "metadata": {},
   "source": [
    "\n",
    "# Preprocess the data Remove Stopwords and Lemmatize"
   ]
  },
  {
   "cell_type": "code",
   "execution_count": 21,
   "id": "867c625b",
   "metadata": {},
   "outputs": [
    {
     "name": "stderr",
     "output_type": "stream",
     "text": [
      "[nltk_data] Downloading package punkt to\n",
      "[nltk_data]     C:\\Users\\zenis\\AppData\\Roaming\\nltk_data...\n",
      "[nltk_data]   Unzipping tokenizers\\punkt.zip.\n",
      "[nltk_data] Downloading package averaged_perceptron_tagger to\n",
      "[nltk_data]     C:\\Users\\zenis\\AppData\\Roaming\\nltk_data...\n",
      "[nltk_data]   Unzipping taggers\\averaged_perceptron_tagger.zip.\n",
      "[nltk_data] Downloading package wordnet to\n",
      "[nltk_data]     C:\\Users\\zenis\\AppData\\Roaming\\nltk_data...\n",
      "[nltk_data]   Unzipping corpora\\wordnet.zip.\n",
      "[nltk_data] Downloading package stopwords to\n",
      "[nltk_data]     C:\\Users\\zenis\\AppData\\Roaming\\nltk_data...\n",
      "[nltk_data]   Unzipping corpora\\stopwords.zip.\n"
     ]
    },
    {
     "data": {
      "text/plain": [
       "True"
      ]
     },
     "execution_count": 21,
     "metadata": {},
     "output_type": "execute_result"
    }
   ],
   "source": [
    "import nltk\n",
    "nltk.download('punkt')\n",
    "nltk.download('averaged_perceptron_tagger')\n",
    "nltk.download('wordnet')\n",
    "nltk.download('stopwords')"
   ]
  },
  {
   "cell_type": "code",
   "execution_count": 22,
   "id": "0a7c6314",
   "metadata": {},
   "outputs": [],
   "source": [
    "from nltk.stem import WordNetLemmatizer\n",
    "from nltk.corpus import stopwords\n"
   ]
  },
  {
   "cell_type": "code",
   "execution_count": 23,
   "id": "f4d66842",
   "metadata": {},
   "outputs": [],
   "source": [
    "lemmatizer=WordNetLemmatizer()"
   ]
  },
  {
   "cell_type": "code",
   "execution_count": 24,
   "id": "708f4696",
   "metadata": {},
   "outputs": [],
   "source": [
    "def preprocess_sentences(text):\n",
    "    text = text.lower()\n",
    "    words = nltk.word_tokenize(text)\n",
    "    my_sent=[lemmatizer.lemmatize(word) for word in words if word not in stopwords.words('english')]\n",
    "    finalsent = ' '.join(my_sent)\n",
    "\n",
    "    finalsent = finalsent.replace(\"n't\", \" not\")\n",
    "    finalsent = finalsent.replace(\"'m\", \" am\")\n",
    "    finalsent = finalsent.replace(\"'s\", \" is\")\n",
    "    finalsent = finalsent.replace(\"'re\", \" are\")\n",
    "    finalsent = finalsent.replace(\"'ll\", \" will\")\n",
    "    finalsent = finalsent.replace(\"'ve\", \" have\")\n",
    "    finalsent = finalsent.replace(\"'d\", \" would\")\n",
    "    \n",
    "    return finalsent"
   ]
  },
  {
   "cell_type": "code",
   "execution_count": 25,
   "id": "5035db96",
   "metadata": {},
   "outputs": [],
   "source": [
    "finaldata['new_plot']=finaldata['Plot'].apply(preprocess_sentences)"
   ]
  },
  {
   "cell_type": "code",
   "execution_count": 28,
   "id": "5f59f951",
   "metadata": {},
   "outputs": [
    {
     "data": {
      "text/html": [
       "<div>\n",
       "<style scoped>\n",
       "    .dataframe tbody tr th:only-of-type {\n",
       "        vertical-align: middle;\n",
       "    }\n",
       "\n",
       "    .dataframe tbody tr th {\n",
       "        vertical-align: top;\n",
       "    }\n",
       "\n",
       "    .dataframe thead th {\n",
       "        text-align: right;\n",
       "    }\n",
       "</style>\n",
       "<table border=\"1\" class=\"dataframe\">\n",
       "  <thead>\n",
       "    <tr style=\"text-align: right;\">\n",
       "      <th></th>\n",
       "      <th>Plot</th>\n",
       "      <th>new_plot</th>\n",
       "    </tr>\n",
       "    <tr>\n",
       "      <th>Title</th>\n",
       "      <th></th>\n",
       "      <th></th>\n",
       "    </tr>\n",
       "  </thead>\n",
       "  <tbody>\n",
       "    <tr>\n",
       "      <th>Kansas Saloon Smashers</th>\n",
       "      <td>A bartender is working at a saloon, serving dr...</td>\n",
       "      <td>bartender working saloon , serving drink custo...</td>\n",
       "    </tr>\n",
       "    <tr>\n",
       "      <th>Love by the Light of the Moon</th>\n",
       "      <td>The moon, painted with a smiling face hangs ov...</td>\n",
       "      <td>moon , painted smiling face hang park night . ...</td>\n",
       "    </tr>\n",
       "    <tr>\n",
       "      <th>The Martyred Presidents</th>\n",
       "      <td>The film, just over a minute long, is composed...</td>\n",
       "      <td>film , minute long , composed two shot . first...</td>\n",
       "    </tr>\n",
       "    <tr>\n",
       "      <th>Terrible Teddy, the Grizzly King</th>\n",
       "      <td>Lasting just 61 seconds and consisting of two ...</td>\n",
       "      <td>lasting 61 second consisting two shot , first ...</td>\n",
       "    </tr>\n",
       "    <tr>\n",
       "      <th>Jack and the Beanstalk</th>\n",
       "      <td>The earliest known adaptation of the classic f...</td>\n",
       "      <td>earliest known adaptation classic fairytale , ...</td>\n",
       "    </tr>\n",
       "  </tbody>\n",
       "</table>\n",
       "</div>"
      ],
      "text/plain": [
       "                                                                               Plot  \\\n",
       "Title                                                                                 \n",
       "Kansas Saloon Smashers            A bartender is working at a saloon, serving dr...   \n",
       "Love by the Light of the Moon     The moon, painted with a smiling face hangs ov...   \n",
       "The Martyred Presidents           The film, just over a minute long, is composed...   \n",
       "Terrible Teddy, the Grizzly King  Lasting just 61 seconds and consisting of two ...   \n",
       "Jack and the Beanstalk            The earliest known adaptation of the classic f...   \n",
       "\n",
       "                                                                           new_plot  \n",
       "Title                                                                                \n",
       "Kansas Saloon Smashers            bartender working saloon , serving drink custo...  \n",
       "Love by the Light of the Moon     moon , painted smiling face hang park night . ...  \n",
       "The Martyred Presidents           film , minute long , composed two shot . first...  \n",
       "Terrible Teddy, the Grizzly King  lasting 61 second consisting two shot , first ...  \n",
       "Jack and the Beanstalk            earliest known adaptation classic fairytale , ...  "
      ]
     },
     "execution_count": 28,
     "metadata": {},
     "output_type": "execute_result"
    }
   ],
   "source": [
    "finaldata.head()"
   ]
  },
  {
   "cell_type": "markdown",
   "id": "2d7dacf8",
   "metadata": {},
   "source": [
    "# Using TF-IDF to vectorize preprocessed movie plots"
   ]
  },
  {
   "cell_type": "code",
   "execution_count": 29,
   "id": "9543b4f2",
   "metadata": {},
   "outputs": [],
   "source": [
    "from sklearn.feature_extraction.text import TfidfVectorizer\n",
    "tfidf=TfidfVectorizer()\n",
    "tfidf_movieid=tfidf.fit_transform((finaldata['new_plot']))\n",
    "\n"
   ]
  },
  {
   "cell_type": "code",
   "execution_count": 30,
   "id": "6c023aa4",
   "metadata": {},
   "outputs": [],
   "source": [
    "#finding cosine similarity between vectors\n",
    "from sklearn.metrics.pairwise import cosine_similarity\n",
    "similarity=cosine_similarity(tfidf_movieid,tfidf_movieid)"
   ]
  },
  {
   "cell_type": "code",
   "execution_count": 46,
   "id": "e66d7919",
   "metadata": {},
   "outputs": [
    {
     "name": "stdout",
     "output_type": "stream",
     "text": [
      "[[1.         0.03373584 0.00731814 ... 0.00888072 0.         0.00300821]\n",
      " [0.03373584 1.         0.00721289 ... 0.01053932 0.0013548  0.00410898]\n",
      " [0.00731814 0.00721289 1.         ... 0.         0.00498507 0.01718891]\n",
      " ...\n",
      " [0.00888072 0.01053932 0.         ... 1.         0.01358463 0.06911689]\n",
      " [0.         0.0013548  0.00498507 ... 0.01358463 1.         0.0061194 ]\n",
      " [0.00300821 0.00410898 0.01718891 ... 0.06911689 0.0061194  1.        ]]\n"
     ]
    }
   ],
   "source": [
    "print(similarity)"
   ]
  },
  {
   "cell_type": "code",
   "execution_count": 31,
   "id": "cc7f8b3c",
   "metadata": {},
   "outputs": [],
   "source": [
    "indices=pd.Series(finaldata.index)"
   ]
  },
  {
   "cell_type": "code",
   "execution_count": 32,
   "id": "089fd28c",
   "metadata": {},
   "outputs": [
    {
     "data": {
      "text/plain": [
       "0                  Kansas Saloon Smashers\n",
       "1           Love by the Light of the Moon\n",
       "2                 The Martyred Presidents\n",
       "3        Terrible Teddy, the Grizzly King\n",
       "4                  Jack and the Beanstalk\n",
       "                       ...               \n",
       "24971                          Kadvi Hawa\n",
       "24972                       Rajiv Dhingra\n",
       "24973                      Fukrey Returns\n",
       "24974                    Monsoon Shootout\n",
       "24975                     Tiger Zinda Hai\n",
       "Name: Title, Length: 24976, dtype: object"
      ]
     },
     "execution_count": 32,
     "metadata": {},
     "output_type": "execute_result"
    }
   ],
   "source": [
    "indices"
   ]
  },
  {
   "cell_type": "code",
   "execution_count": 33,
   "id": "c9f637a1",
   "metadata": {},
   "outputs": [],
   "source": [
    "def recommendations(title, cosine_sim = similarity):\n",
    "  try:\n",
    "    index = indices[indices == title].index[0]\n",
    "    print(index)\n",
    "    similarity_scores = pd.Series(cosine_sim[index]).sort_values(ascending = False)\n",
    "    print(similarity_scores)\n",
    "    top_10_movies = list(similarity_scores.iloc[1:11].index)\n",
    "    print(top_10_movies)\n",
    "    recommended_movies = [list(finaldata.index)[i] for i in top_10_movies]\n",
    "    return recommended_movies\n",
    "  except:\n",
    "    print(\"No movie name found\")  "
   ]
  },
  {
   "cell_type": "code",
   "execution_count": 34,
   "id": "3a3bae7b",
   "metadata": {},
   "outputs": [
    {
     "name": "stdout",
     "output_type": "stream",
     "text": [
      "16130\n",
      "16130    1.000000\n",
      "17340    0.576967\n",
      "16697    0.537255\n",
      "14762    0.404941\n",
      "16178    0.401017\n",
      "           ...   \n",
      "22948    0.000000\n",
      "19534    0.000000\n",
      "13376    0.000000\n",
      "18416    0.000000\n",
      "8067     0.000000\n",
      "Length: 24976, dtype: float64\n",
      "[17340, 16697, 14762, 16178, 13916, 12613, 10985, 16648, 12459, 7290]\n"
     ]
    },
    {
     "data": {
      "text/plain": [
       "['Thor: Ragnarok',\n",
       " 'Thor: The Dark World',\n",
       " 'Son of the Mask',\n",
       " 'Avengers, TheThe Avengers',\n",
       " ' O',\n",
       " 'Bad Moon',\n",
       " 'The Incredible Hulk Returns',\n",
       " 'Prisoners',\n",
       " 'The Hills Have Eyes III',\n",
       " 'Teenagers from Outer Space']"
      ]
     },
     "execution_count": 34,
     "metadata": {},
     "output_type": "execute_result"
    }
   ],
   "source": [
    "recommendations(\"Thor\")"
   ]
  },
  {
   "cell_type": "code",
   "execution_count": 36,
   "id": "c5d8c7d7",
   "metadata": {},
   "outputs": [
    {
     "name": "stdout",
     "output_type": "stream",
     "text": [
      "14074\n",
      "14074    1.000000\n",
      "14959    0.621496\n",
      "15663    0.523612\n",
      "16302    0.356967\n",
      "6695     0.351052\n",
      "           ...   \n",
      "2184     0.000000\n",
      "24530    0.000000\n",
      "18988    0.000000\n",
      "24524    0.000000\n",
      "23009    0.000000\n",
      "Length: 24976, dtype: float64\n",
      "[14959, 15663, 16302, 6695, 19925, 17113, 10439, 12166, 9915, 20373]\n"
     ]
    },
    {
     "data": {
      "text/plain": [
       "['Ice Age: The Meltdown',\n",
       " 'Ice Age: Dawn of the Dinosaurs',\n",
       " 'Ice Age: Continental Drift',\n",
       " 'The Wrong Man',\n",
       " 'The Buttercup Chain',\n",
       " 'Ice Age: Collision Course',\n",
       " 'Runaway Train',\n",
       " 'Corrina, Corrina',\n",
       " 'Zorro, the Gay Blade',\n",
       " 'Sid and Nancy']"
      ]
     },
     "execution_count": 36,
     "metadata": {},
     "output_type": "execute_result"
    }
   ],
   "source": [
    "recommendations(\"Ice Age\")"
   ]
  },
  {
   "cell_type": "code",
   "execution_count": 43,
   "id": "a4f115dd",
   "metadata": {},
   "outputs": [
    {
     "name": "stdout",
     "output_type": "stream",
     "text": [
      "24975\n",
      "24975    1.000000\n",
      "24686    0.571575\n",
      "2085     0.273579\n",
      "8714     0.272924\n",
      "14002    0.262851\n",
      "           ...   \n",
      "22233    0.000000\n",
      "18068    0.000000\n",
      "18067    0.000000\n",
      "11046    0.000000\n",
      "23746    0.000000\n",
      "Length: 24976, dtype: float64\n",
      "[24686, 2085, 8714, 14002, 873, 3929, 23448, 24748, 24342, 7925]\n"
     ]
    },
    {
     "data": {
      "text/plain": [
       "['Ek Tha Tiger',\n",
       " 'The Jungle Princess',\n",
       " 'Pretty Maids All in a Row',\n",
       " 'Below',\n",
       " 'Where East is East',\n",
       " 'The Tiger Woman',\n",
       " 'Hum',\n",
       " 'Raanjhanaa',\n",
       " 'Jannat',\n",
       " 'A Tiger Walks']"
      ]
     },
     "execution_count": 43,
     "metadata": {},
     "output_type": "execute_result"
    }
   ],
   "source": [
    "recommendations(\"Tiger Zinda Hai\")"
   ]
  },
  {
   "cell_type": "code",
   "execution_count": 44,
   "id": "8e289532",
   "metadata": {},
   "outputs": [],
   "source": [
    "import pickle"
   ]
  },
  {
   "cell_type": "code",
   "execution_count": 45,
   "id": "e8c08575",
   "metadata": {},
   "outputs": [],
   "source": [
    "pickle.dump(finaldata,open('movies.pkl','wb'))"
   ]
  },
  {
   "cell_type": "code",
   "execution_count": 47,
   "id": "f5449dcf",
   "metadata": {},
   "outputs": [],
   "source": [
    "pickle.dump(similarity,open('similarity.pkl','wb'))"
   ]
  },
  {
   "cell_type": "code",
   "execution_count": null,
   "id": "6e2484a2",
   "metadata": {},
   "outputs": [],
   "source": []
  }
 ],
 "metadata": {
  "kernelspec": {
   "display_name": "Python 3 (ipykernel)",
   "language": "python",
   "name": "python3"
  },
  "language_info": {
   "codemirror_mode": {
    "name": "ipython",
    "version": 3
   },
   "file_extension": ".py",
   "mimetype": "text/x-python",
   "name": "python",
   "nbconvert_exporter": "python",
   "pygments_lexer": "ipython3",
   "version": "3.9.7"
  }
 },
 "nbformat": 4,
 "nbformat_minor": 5
}
